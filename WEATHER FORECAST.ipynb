{
  "nbformat": 4,
  "nbformat_minor": 0,
  "metadata": {
    "colab": {
      "provenance": [],
      "authorship_tag": "ABX9TyPa4IFY2cYngCrhL84DUoCY",
      "include_colab_link": true
    },
    "kernelspec": {
      "name": "python3",
      "display_name": "Python 3"
    },
    "language_info": {
      "name": "python"
    }
  },
  "cells": [
    {
      "cell_type": "markdown",
      "metadata": {
        "id": "view-in-github",
        "colab_type": "text"
      },
      "source": [
        "<a href=\"https://colab.research.google.com/github/yeruvapraneeth/STUDENTRISE/blob/main/WEATHER%20FORECAST.ipynb\" target=\"_parent\"><img src=\"https://colab.research.google.com/assets/colab-badge.svg\" alt=\"Open In Colab\"/></a>"
      ]
    },
    {
      "cell_type": "markdown",
      "source": [
        "# AUTHER:YERUVA PRANEETH REDDY\n",
        "\n",
        "Task-3 : WEATHER FORECAST"
      ],
      "metadata": {
        "id": "BMTVN7X1Ru8P"
      }
    },
    {
      "cell_type": "code",
      "source": [
        "import requests\n",
        "import json\n",
        "\n",
        "API_KEY = \"bd5e378503939ddaee76f12ad7a97608\"\n",
        "BASE_URL = \"http://api.openweathermap.org/data/2.5/\"\n",
        "\n",
        "def get_weather_data(city):\n",
        "    current_weather_url = f\"{BASE_URL}weather?q={city}&appid={API_KEY}&units=metric\"\n",
        "    forecast_url = f\"{BASE_URL}forecast?q={city}&appid={API_KEY}&units=metric\"\n",
        "\n",
        "    current_weather_response = requests.get(current_weather_url)\n",
        "    forecast_response = requests.get(forecast_url)\n",
        "\n",
        "    if current_weather_response.status_code == 200 and forecast_response.status_code == 200:\n",
        "        current_weather_data = current_weather_response.json()\n",
        "        forecast_data = forecast_response.json()\n",
        "        return current_weather_data, forecast_data\n",
        "    else:\n",
        "        print(\"Failed to fetch data. Check the city name and API key.\")\n",
        "        return None, None\n",
        "\n",
        "def display_current_weather(data):\n",
        "    print(f\"\\nCurrent Weather in {data['name']}:\")\n",
        "    print(f\"Temperature: {data['main']['temp']}°C\")\n",
        "    print(f\"Weather: {data['weather'][0]['description']}\")\n",
        "    print(f\"Humidity: {data['main']['humidity']}%\")\n",
        "    print(f\"Wind Speed: {data['wind']['speed']} m/s\")\n",
        "\n",
        "def display_forecast(data):\n",
        "    print(\"\\n5-Day Weather Forecast:\")\n",
        "    for forecast in data['list']:\n",
        "        dt_txt = forecast['dt_txt']\n",
        "        temp = forecast['main']['temp']\n",
        "        weather = forecast['weather'][0]['description']\n",
        "        print(f\"{dt_txt} - Temp: {temp}°C, Weather: {weather}\")\n",
        "\n",
        "def main():\n",
        "    city = input(\"Enter the city name: \")\n",
        "    current_weather_data, forecast_data = get_weather_data(city)\n",
        "\n",
        "    if current_weather_data and forecast_data:\n",
        "        display_current_weather(current_weather_data)\n",
        "        display_forecast(forecast_data)\n",
        "\n",
        "if __name__ == \"__main__\":\n",
        "    main()\n"
      ],
      "metadata": {
        "colab": {
          "base_uri": "https://localhost:8080/"
        },
        "id": "4TkIAEyvU4FJ",
        "outputId": "54673088-c76e-43b6-fad8-c97fdad1e4aa"
      },
      "execution_count": 8,
      "outputs": [
        {
          "output_type": "stream",
          "name": "stdout",
          "text": [
            "Enter the city name: London\n",
            "\n",
            "Current Weather in London:\n",
            "Temperature: 22.75°C\n",
            "Weather: few clouds\n",
            "Humidity: 72%\n",
            "Wind Speed: 4.12 m/s\n",
            "\n",
            "5-Day Weather Forecast:\n",
            "2024-08-05 12:00:00 - Temp: 23.05°C, Weather: few clouds\n",
            "2024-08-05 15:00:00 - Temp: 23.55°C, Weather: scattered clouds\n",
            "2024-08-05 18:00:00 - Temp: 23.37°C, Weather: broken clouds\n",
            "2024-08-05 21:00:00 - Temp: 20.08°C, Weather: few clouds\n",
            "2024-08-06 00:00:00 - Temp: 18.52°C, Weather: few clouds\n",
            "2024-08-06 03:00:00 - Temp: 18.04°C, Weather: overcast clouds\n",
            "2024-08-06 06:00:00 - Temp: 18.54°C, Weather: overcast clouds\n",
            "2024-08-06 09:00:00 - Temp: 19.18°C, Weather: light rain\n",
            "2024-08-06 12:00:00 - Temp: 18.89°C, Weather: light rain\n",
            "2024-08-06 15:00:00 - Temp: 17.02°C, Weather: light rain\n",
            "2024-08-06 18:00:00 - Temp: 21.43°C, Weather: broken clouds\n",
            "2024-08-06 21:00:00 - Temp: 17.78°C, Weather: broken clouds\n",
            "2024-08-07 00:00:00 - Temp: 15.77°C, Weather: scattered clouds\n",
            "2024-08-07 03:00:00 - Temp: 14.33°C, Weather: clear sky\n",
            "2024-08-07 06:00:00 - Temp: 14.19°C, Weather: clear sky\n",
            "2024-08-07 09:00:00 - Temp: 18.5°C, Weather: scattered clouds\n",
            "2024-08-07 12:00:00 - Temp: 20.57°C, Weather: broken clouds\n",
            "2024-08-07 15:00:00 - Temp: 21.4°C, Weather: overcast clouds\n",
            "2024-08-07 18:00:00 - Temp: 21.44°C, Weather: broken clouds\n",
            "2024-08-07 21:00:00 - Temp: 18.02°C, Weather: scattered clouds\n",
            "2024-08-08 00:00:00 - Temp: 16.31°C, Weather: broken clouds\n",
            "2024-08-08 03:00:00 - Temp: 15.79°C, Weather: broken clouds\n",
            "2024-08-08 06:00:00 - Temp: 15.88°C, Weather: overcast clouds\n",
            "2024-08-08 09:00:00 - Temp: 18.84°C, Weather: overcast clouds\n",
            "2024-08-08 12:00:00 - Temp: 19.11°C, Weather: overcast clouds\n",
            "2024-08-08 15:00:00 - Temp: 21.33°C, Weather: overcast clouds\n",
            "2024-08-08 18:00:00 - Temp: 20.76°C, Weather: overcast clouds\n",
            "2024-08-08 21:00:00 - Temp: 18.75°C, Weather: overcast clouds\n",
            "2024-08-09 00:00:00 - Temp: 18.99°C, Weather: overcast clouds\n",
            "2024-08-09 03:00:00 - Temp: 18.33°C, Weather: overcast clouds\n",
            "2024-08-09 06:00:00 - Temp: 17.45°C, Weather: broken clouds\n",
            "2024-08-09 09:00:00 - Temp: 20.13°C, Weather: overcast clouds\n",
            "2024-08-09 12:00:00 - Temp: 23°C, Weather: overcast clouds\n",
            "2024-08-09 15:00:00 - Temp: 24.39°C, Weather: broken clouds\n",
            "2024-08-09 18:00:00 - Temp: 22.9°C, Weather: broken clouds\n",
            "2024-08-09 21:00:00 - Temp: 18.7°C, Weather: scattered clouds\n",
            "2024-08-10 00:00:00 - Temp: 16.36°C, Weather: broken clouds\n",
            "2024-08-10 03:00:00 - Temp: 14.95°C, Weather: broken clouds\n",
            "2024-08-10 06:00:00 - Temp: 14.99°C, Weather: broken clouds\n",
            "2024-08-10 09:00:00 - Temp: 20.1°C, Weather: overcast clouds\n"
          ]
        }
      ]
    }
  ]
}
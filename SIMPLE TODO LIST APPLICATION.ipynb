{
  "nbformat": 4,
  "nbformat_minor": 0,
  "metadata": {
    "colab": {
      "provenance": [],
      "authorship_tag": "ABX9TyMVkIPH2jJaCgN2stg5tVnf",
      "include_colab_link": true
    },
    "kernelspec": {
      "name": "python3",
      "display_name": "Python 3"
    },
    "language_info": {
      "name": "python"
    }
  },
  "cells": [
    {
      "cell_type": "markdown",
      "metadata": {
        "id": "view-in-github",
        "colab_type": "text"
      },
      "source": [
        "<a href=\"https://colab.research.google.com/github/yeruvapraneeth/STUDENTRISE/blob/main/SIMPLE%20TODO%20LIST%20APPLICATION.ipynb\" target=\"_parent\"><img src=\"https://colab.research.google.com/assets/colab-badge.svg\" alt=\"Open In Colab\"/></a>"
      ]
    },
    {
      "cell_type": "code",
      "execution_count": 1,
      "metadata": {
        "colab": {
          "base_uri": "https://localhost:8080/",
          "height": 1000
        },
        "id": "XbAqQRpJRLLd",
        "outputId": "fd6b261a-61ad-45b7-b808-f236e6631874"
      },
      "outputs": [
        {
          "output_type": "stream",
          "name": "stdout",
          "text": [
            "\n",
            "To-Do List Application\n",
            "1. List tasks\n",
            "2. Add task\n",
            "3. Edit task\n",
            "4. Delete task\n",
            "5. Exit\n",
            "Choose an option: \n",
            "Invalid choice. Please choose a valid option.\n",
            "\n",
            "To-Do List Application\n",
            "1. List tasks\n",
            "2. Add task\n",
            "3. Edit task\n",
            "4. Delete task\n",
            "5. Exit\n",
            "Choose an option: 2\n",
            "Enter the task: 2\n",
            "Added task: 2\n",
            "\n",
            "To-Do List Application\n",
            "1. List tasks\n",
            "2. Add task\n",
            "3. Edit task\n",
            "4. Delete task\n",
            "5. Exit\n",
            "Choose an option: 1\n",
            "1. 2\n",
            "\n",
            "To-Do List Application\n",
            "1. List tasks\n",
            "2. Add task\n",
            "3. Edit task\n",
            "4. Delete task\n",
            "5. Exit\n",
            "Choose an option: 4\n",
            "1. 2\n",
            "Enter the task number to delete: 4\n",
            "Task number 4 is out of range.\n",
            "\n",
            "To-Do List Application\n",
            "1. List tasks\n",
            "2. Add task\n",
            "3. Edit task\n",
            "4. Delete task\n",
            "5. Exit\n"
          ]
        },
        {
          "output_type": "error",
          "ename": "KeyboardInterrupt",
          "evalue": "Interrupted by user",
          "traceback": [
            "\u001b[0;31m---------------------------------------------------------------------------\u001b[0m",
            "\u001b[0;31mKeyboardInterrupt\u001b[0m                         Traceback (most recent call last)",
            "\u001b[0;32m<ipython-input-1-1e4b78d9c6d3>\u001b[0m in \u001b[0;36m<cell line: 87>\u001b[0;34m()\u001b[0m\n\u001b[1;32m     86\u001b[0m \u001b[0;34m\u001b[0m\u001b[0m\n\u001b[1;32m     87\u001b[0m \u001b[0;32mif\u001b[0m \u001b[0m__name__\u001b[0m \u001b[0;34m==\u001b[0m \u001b[0;34m\"__main__\"\u001b[0m\u001b[0;34m:\u001b[0m\u001b[0;34m\u001b[0m\u001b[0;34m\u001b[0m\u001b[0m\n\u001b[0;32m---> 88\u001b[0;31m     \u001b[0mmain\u001b[0m\u001b[0;34m(\u001b[0m\u001b[0;34m)\u001b[0m\u001b[0;34m\u001b[0m\u001b[0;34m\u001b[0m\u001b[0m\n\u001b[0m\u001b[1;32m     89\u001b[0m \u001b[0;34m\u001b[0m\u001b[0m\n",
            "\u001b[0;32m<ipython-input-1-1e4b78d9c6d3>\u001b[0m in \u001b[0;36mmain\u001b[0;34m()\u001b[0m\n\u001b[1;32m     57\u001b[0m         \u001b[0mprint\u001b[0m\u001b[0;34m(\u001b[0m\u001b[0;34m\"5. Exit\"\u001b[0m\u001b[0;34m)\u001b[0m\u001b[0;34m\u001b[0m\u001b[0;34m\u001b[0m\u001b[0m\n\u001b[1;32m     58\u001b[0m \u001b[0;34m\u001b[0m\u001b[0m\n\u001b[0;32m---> 59\u001b[0;31m         \u001b[0mchoice\u001b[0m \u001b[0;34m=\u001b[0m \u001b[0minput\u001b[0m\u001b[0;34m(\u001b[0m\u001b[0;34m\"Choose an option: \"\u001b[0m\u001b[0;34m)\u001b[0m\u001b[0;34m\u001b[0m\u001b[0;34m\u001b[0m\u001b[0m\n\u001b[0m\u001b[1;32m     60\u001b[0m \u001b[0;34m\u001b[0m\u001b[0m\n\u001b[1;32m     61\u001b[0m         \u001b[0;32mif\u001b[0m \u001b[0mchoice\u001b[0m \u001b[0;34m==\u001b[0m \u001b[0;34m'1'\u001b[0m\u001b[0;34m:\u001b[0m\u001b[0;34m\u001b[0m\u001b[0;34m\u001b[0m\u001b[0m\n",
            "\u001b[0;32m/usr/local/lib/python3.10/dist-packages/ipykernel/kernelbase.py\u001b[0m in \u001b[0;36mraw_input\u001b[0;34m(self, prompt)\u001b[0m\n\u001b[1;32m    849\u001b[0m                 \u001b[0;34m\"raw_input was called, but this frontend does not support input requests.\"\u001b[0m\u001b[0;34m\u001b[0m\u001b[0;34m\u001b[0m\u001b[0m\n\u001b[1;32m    850\u001b[0m             )\n\u001b[0;32m--> 851\u001b[0;31m         return self._input_request(str(prompt),\n\u001b[0m\u001b[1;32m    852\u001b[0m             \u001b[0mself\u001b[0m\u001b[0;34m.\u001b[0m\u001b[0m_parent_ident\u001b[0m\u001b[0;34m,\u001b[0m\u001b[0;34m\u001b[0m\u001b[0;34m\u001b[0m\u001b[0m\n\u001b[1;32m    853\u001b[0m             \u001b[0mself\u001b[0m\u001b[0;34m.\u001b[0m\u001b[0m_parent_header\u001b[0m\u001b[0;34m,\u001b[0m\u001b[0;34m\u001b[0m\u001b[0;34m\u001b[0m\u001b[0m\n",
            "\u001b[0;32m/usr/local/lib/python3.10/dist-packages/ipykernel/kernelbase.py\u001b[0m in \u001b[0;36m_input_request\u001b[0;34m(self, prompt, ident, parent, password)\u001b[0m\n\u001b[1;32m    893\u001b[0m             \u001b[0;32mexcept\u001b[0m \u001b[0mKeyboardInterrupt\u001b[0m\u001b[0;34m:\u001b[0m\u001b[0;34m\u001b[0m\u001b[0;34m\u001b[0m\u001b[0m\n\u001b[1;32m    894\u001b[0m                 \u001b[0;31m# re-raise KeyboardInterrupt, to truncate traceback\u001b[0m\u001b[0;34m\u001b[0m\u001b[0;34m\u001b[0m\u001b[0m\n\u001b[0;32m--> 895\u001b[0;31m                 \u001b[0;32mraise\u001b[0m \u001b[0mKeyboardInterrupt\u001b[0m\u001b[0;34m(\u001b[0m\u001b[0;34m\"Interrupted by user\"\u001b[0m\u001b[0;34m)\u001b[0m \u001b[0;32mfrom\u001b[0m \u001b[0;32mNone\u001b[0m\u001b[0;34m\u001b[0m\u001b[0;34m\u001b[0m\u001b[0m\n\u001b[0m\u001b[1;32m    896\u001b[0m             \u001b[0;32mexcept\u001b[0m \u001b[0mException\u001b[0m \u001b[0;32mas\u001b[0m \u001b[0me\u001b[0m\u001b[0;34m:\u001b[0m\u001b[0;34m\u001b[0m\u001b[0;34m\u001b[0m\u001b[0m\n\u001b[1;32m    897\u001b[0m                 \u001b[0mself\u001b[0m\u001b[0;34m.\u001b[0m\u001b[0mlog\u001b[0m\u001b[0;34m.\u001b[0m\u001b[0mwarning\u001b[0m\u001b[0;34m(\u001b[0m\u001b[0;34m\"Invalid Message:\"\u001b[0m\u001b[0;34m,\u001b[0m \u001b[0mexc_info\u001b[0m\u001b[0;34m=\u001b[0m\u001b[0;32mTrue\u001b[0m\u001b[0;34m)\u001b[0m\u001b[0;34m\u001b[0m\u001b[0;34m\u001b[0m\u001b[0m\n",
            "\u001b[0;31mKeyboardInterrupt\u001b[0m: Interrupted by user"
          ]
        }
      ],
      "source": [
        "import os\n",
        "\n",
        "TODO_FILE = \"todo_list.txt\"\n",
        "\n",
        "def load_tasks():\n",
        "    if not os.path.exists(TODO_FILE):\n",
        "        return []\n",
        "    with open(TODO_FILE, 'r') as file:\n",
        "        tasks = file.readlines()\n",
        "    return [task.strip() for task in tasks]\n",
        "\n",
        "def save_tasks(tasks):\n",
        "    with open(TODO_FILE, 'w') as file:\n",
        "        for task in tasks:\n",
        "            file.write(task + \"\\n\")\n",
        "\n",
        "def add_task(task):\n",
        "    tasks = load_tasks()\n",
        "    tasks.append(task)\n",
        "    save_tasks(tasks)\n",
        "    print(f\"Added task: {task}\")\n",
        "\n",
        "def list_tasks():\n",
        "    tasks = load_tasks()\n",
        "    if not tasks:\n",
        "        print(\"No tasks found.\")\n",
        "    else:\n",
        "        for i, task in enumerate(tasks, start=1):\n",
        "            print(f\"{i}. {task}\")\n",
        "\n",
        "def edit_task(task_number, new_task):\n",
        "    tasks = load_tasks()\n",
        "    if 0 < task_number <= len(tasks):\n",
        "        old_task = tasks[task_number - 1]\n",
        "        tasks[task_number - 1] = new_task\n",
        "        save_tasks(tasks)\n",
        "        print(f\"Updated task {task_number} from '{old_task}' to '{new_task}'\")\n",
        "    else:\n",
        "        print(f\"Task number {task_number} is out of range.\")\n",
        "\n",
        "def delete_task(task_number):\n",
        "    tasks = load_tasks()\n",
        "    if 0 < task_number <= len(tasks):\n",
        "        deleted_task = tasks.pop(task_number - 1)\n",
        "        save_tasks(tasks)\n",
        "        print(f\"Deleted task: {deleted_task}\")\n",
        "    else:\n",
        "        print(f\"Task number {task_number} is out of range.\")\n",
        "\n",
        "def main():\n",
        "    while True:\n",
        "        print(\"\\nTo-Do List Application\")\n",
        "        print(\"1. List tasks\")\n",
        "        print(\"2. Add task\")\n",
        "        print(\"3. Edit task\")\n",
        "        print(\"4. Delete task\")\n",
        "        print(\"5. Exit\")\n",
        "\n",
        "        choice = input(\"Choose an option: \")\n",
        "\n",
        "        if choice == '1':\n",
        "            list_tasks()\n",
        "        elif choice == '2':\n",
        "            task = input(\"Enter the task: \")\n",
        "            add_task(task)\n",
        "        elif choice == '3':\n",
        "            list_tasks()\n",
        "            try:\n",
        "                task_number = int(input(\"Enter the task number to edit: \"))\n",
        "                new_task = input(\"Enter the new task: \")\n",
        "                edit_task(task_number, new_task)\n",
        "            except ValueError:\n",
        "                print(\"Invalid input. Please enter a valid task number.\")\n",
        "        elif choice == '4':\n",
        "            list_tasks()\n",
        "            try:\n",
        "                task_number = int(input(\"Enter the task number to delete: \"))\n",
        "                delete_task(task_number)\n",
        "            except ValueError:\n",
        "                print(\"Invalid input. Please enter a valid task number.\")\n",
        "        elif choice == '5':\n",
        "            print(\"Exiting the application.\")\n",
        "            break\n",
        "        else:\n",
        "            print(\"Invalid choice. Please choose a valid option.\")\n",
        "\n",
        "if __name__ == \"__main__\":\n",
        "    main()\n",
        "\n"
      ]
    },
    {
      "cell_type": "markdown",
      "source": [],
      "metadata": {
        "id": "BMTVN7X1Ru8P"
      }
    }
  ]
}
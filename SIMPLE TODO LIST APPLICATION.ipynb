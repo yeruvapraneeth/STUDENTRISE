{
  "nbformat": 4,
  "nbformat_minor": 0,
  "metadata": {
    "colab": {
      "provenance": [],
      "authorship_tag": "ABX9TyMXzcG2s0QXMUyaqpfJpFez",
      "include_colab_link": true
    },
    "kernelspec": {
      "name": "python3",
      "display_name": "Python 3"
    },
    "language_info": {
      "name": "python"
    }
  },
  "cells": [
    {
      "cell_type": "markdown",
      "metadata": {
        "id": "view-in-github",
        "colab_type": "text"
      },
      "source": [
        "<a href=\"https://colab.research.google.com/github/yeruvapraneeth/STUDENTRISE/blob/main/SIMPLE%20TODO%20LIST%20APPLICATION.ipynb\" target=\"_parent\"><img src=\"https://colab.research.google.com/assets/colab-badge.svg\" alt=\"Open In Colab\"/></a>"
      ]
    },
    {
      "cell_type": "markdown",
      "source": [
        "# AUTHER:YERUVA PRANEETH REDDY\n",
        "\n",
        "SIMPLE TODO LIST\n",
        "APPLICATION"
      ],
      "metadata": {
        "id": "BMTVN7X1Ru8P"
      }
    },
    {
      "cell_type": "code",
      "source": [
        "import os\n",
        "\n",
        "TODO_FILE = \"todo_list.txt\"\n",
        "\n",
        "def load_tasks():\n",
        "    if not os.path.exists(TODO_FILE):\n",
        "        return []\n",
        "    with open(TODO_FILE, 'r') as file:\n",
        "        tasks = file.readlines()\n",
        "    return [task.strip() for task in tasks]\n",
        "\n",
        "def save_tasks(tasks):\n",
        "    with open(TODO_FILE, 'w') as file:\n",
        "        for task in tasks:\n",
        "            file.write(task + \"\\n\")\n",
        "\n",
        "def add_task(task):\n",
        "    tasks = load_tasks()\n",
        "    tasks.append(task)\n",
        "    save_tasks(tasks)\n",
        "    print(f\"Added task: {task}\")\n",
        "\n",
        "def list_tasks():\n",
        "    tasks = load_tasks()\n",
        "    if not tasks:\n",
        "        print(\"No tasks found.\")\n",
        "    else:\n",
        "        for i, task in enumerate(tasks, start=1):\n",
        "            print(f\"{i}. {task}\")\n",
        "\n",
        "def edit_task(task_number, new_task):\n",
        "    tasks = load_tasks()\n",
        "    if 0 < task_number <= len(tasks):\n",
        "        old_task = tasks[task_number - 1]\n",
        "        tasks[task_number - 1] = new_task\n",
        "        save_tasks(tasks)\n",
        "        print(f\"Updated task {task_number} from '{old_task}' to '{new_task}'\")\n",
        "    else:\n",
        "        print(f\"Task number {task_number} is out of range.\")\n",
        "\n",
        "def delete_task(task_number):\n",
        "    tasks = load_tasks()\n",
        "    if 0 < task_number <= len(tasks):\n",
        "        deleted_task = tasks.pop(task_number - 1)\n",
        "        save_tasks(tasks)\n",
        "        print(f\"Deleted task: {deleted_task}\")\n",
        "    else:\n",
        "        print(f\"Task number {task_number} is out of range.\")\n",
        "\n",
        "def main():\n",
        "    while True:\n",
        "        print(\"\\nTo-Do List Application\")\n",
        "        print(\"1. List tasks\")\n",
        "        print(\"2. Add task\")\n",
        "        print(\"3. Edit task\")\n",
        "        print(\"4. Delete task\")\n",
        "        print(\"5. Exit\")\n",
        "\n",
        "        choice = input(\"Choose an option: \")\n",
        "\n",
        "        if choice == '1':\n",
        "            list_tasks()\n",
        "        elif choice == '2':\n",
        "            task = input(\"Enter the task: \")\n",
        "            add_task(task)\n",
        "        elif choice == '3':\n",
        "            list_tasks()\n",
        "            try:\n",
        "                task_number = int(input(\"Enter the task number to edit: \"))\n",
        "                new_task = input(\"Enter the new task: \")\n",
        "                edit_task(task_number, new_task)\n",
        "            except ValueError:\n",
        "                print(\"Invalid input. Please enter a valid task number.\")\n",
        "        elif choice == '4':\n",
        "            list_tasks()\n",
        "            try:\n",
        "                task_number = int(input(\"Enter the task number to delete: \"))\n",
        "                delete_task(task_number)\n",
        "            except ValueError:\n",
        "                print(\"Invalid input. Please enter a valid task number.\")\n",
        "        elif choice == '5':\n",
        "            print(\"Exiting the application.\")\n",
        "            break\n",
        "        else:\n",
        "            print(\"Invalid choice. Please choose a valid option.\")\n",
        "\n",
        "if __name__ == \"__main__\":\n",
        "    main()\n"
      ],
      "metadata": {
        "colab": {
          "base_uri": "https://localhost:8080/"
        },
        "id": "zy6sNUwiSSXe",
        "outputId": "aa87e3c0-a368-439a-c826-4b5221739f8e"
      },
      "execution_count": null,
      "outputs": [
        {
          "output_type": "stream",
          "name": "stdout",
          "text": [
            "\n",
            "To-Do List Application\n",
            "1. List tasks\n",
            "2. Add task\n",
            "3. Edit task\n",
            "4. Delete task\n",
            "5. Exit\n"
          ]
        }
      ]
    }
  ]
}
{
  "nbformat": 4,
  "nbformat_minor": 0,
  "metadata": {
    "colab": {
      "provenance": [],
      "authorship_tag": "ABX9TyO8kyA6Vzg/DHfRxNubVLT9",
      "include_colab_link": true
    },
    "kernelspec": {
      "name": "python3",
      "display_name": "Python 3"
    },
    "language_info": {
      "name": "python"
    }
  },
  "cells": [
    {
      "cell_type": "markdown",
      "metadata": {
        "id": "view-in-github",
        "colab_type": "text"
      },
      "source": [
        "<a href=\"https://colab.research.google.com/github/yeruvapraneeth/STUDENTRISE/blob/main/BASIC%20CALCULATOR.ipynb\" target=\"_parent\"><img src=\"https://colab.research.google.com/assets/colab-badge.svg\" alt=\"Open In Colab\"/></a>"
      ]
    },
    {
      "cell_type": "markdown",
      "source": [
        "# AUTHER:YERUVA PRANEETH REDDY\n",
        "\n",
        "Task-2 : BASIC CALCULATOR"
      ],
      "metadata": {
        "id": "BMTVN7X1Ru8P"
      }
    },
    {
      "cell_type": "code",
      "source": [
        "def add(a, b):\n",
        "    return a + b\n",
        "\n",
        "def subtract(a, b):\n",
        "    return a - b\n",
        "\n",
        "def multiply(a, b):\n",
        "    return a * b\n",
        "\n",
        "def divide(a, b):\n",
        "    if b != 0:\n",
        "        return a / b\n",
        "    else:\n",
        "        return \"Error! Division by zero.\"\n",
        "\n",
        "def get_numbers():\n",
        "    try:\n",
        "        num1 = float(input(\"Enter the first number: \"))\n",
        "        num2 = float(input(\"Enter the second number: \"))\n",
        "        return num1, num2\n",
        "    except ValueError:\n",
        "        print(\"Invalid input! Please enter numeric values.\")\n",
        "        return get_numbers()\n",
        "\n",
        "def main():\n",
        "    while True:\n",
        "        print(\"\\nSimple Calculator\")\n",
        "        print(\"1. Add\")\n",
        "        print(\"2. Subtract\")\n",
        "        print(\"3. Multiply\")\n",
        "        print(\"4. Divide\")\n",
        "        print(\"5. Exit\")\n",
        "\n",
        "        choice = input(\"Choose an option: \")\n",
        "\n",
        "        if choice in ['1', '2', '3', '4']:\n",
        "            num1, num2 = get_numbers()\n",
        "            if choice == '1':\n",
        "                result = add(num1, num2)\n",
        "                print(f\"The result of addition is: {result}\")\n",
        "            elif choice == '2':\n",
        "                result = subtract(num1, num2)\n",
        "                print(f\"The result of subtraction is: {result}\")\n",
        "            elif choice == '3':\n",
        "                result = multiply(num1, num2)\n",
        "                print(f\"The result of multiplication is: {result}\")\n",
        "            elif choice == '4':\n",
        "                result = divide(num1, num2)\n",
        "                print(f\"The result of division is: {result}\")\n",
        "        elif choice == '5':\n",
        "            print(\"Exiting the calculator. Goodbye!\")\n",
        "            break\n",
        "        else:\n",
        "            print(\"Invalid choice! Please choose a valid option.\")\n",
        "\n",
        "if __name__ == \"__main__\":\n",
        "    main()\n"
      ],
      "metadata": {
        "colab": {
          "base_uri": "https://localhost:8080/"
        },
        "id": "CI2zuQ_4UZIs",
        "outputId": "19d4a579-f556-48f5-904a-1f8d0c212e12"
      },
      "execution_count": null,
      "outputs": [
        {
          "output_type": "stream",
          "name": "stdout",
          "text": [
            "\n",
            "Simple Calculator\n",
            "1. Add\n",
            "2. Subtract\n",
            "3. Multiply\n",
            "4. Divide\n",
            "5. Exit\n",
            "Choose an option: 1\n",
            "Enter the first number: 11\n",
            "Enter the second number: 22\n",
            "The result of addition is: 33.0\n",
            "\n",
            "Simple Calculator\n",
            "1. Add\n",
            "2. Subtract\n",
            "3. Multiply\n",
            "4. Divide\n",
            "5. Exit\n"
          ]
        }
      ]
    }
  ]
}